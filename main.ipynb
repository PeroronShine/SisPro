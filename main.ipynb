from complex import Complex
from rational import Rational

c1 = Complex(Rational(1, 2), Rational(3, 4))
c2 = Complex(Rational(5, 6), Rational(7, 8))

print(f"c1: {c1}")
print(f"c2: {c2}")

c3 = c1 + c2
print(f"c1 + c2: {c3}")

c4 = c1 * c2
print(f"c1 * c2: {c4}")

c5 = c1.power(3)
print(f"c1^3: {c5}")


'''The arg function calculates the phase angle using math.atan2.'''
print(f"arg(c1): {c1.arg()} radians")

print(f"abs(c1): {c1.abs()}")

c1 += c2
print(f"c1 after += c2: {c1}")

c1 *= Complex(Rational(2, 1), Rational(-1, 1))
print(f"c1 after *= Complex(2, -1): {c1}")

print(f"c1 == c2: {c1 == c2}")
print(f"c1 != c2: {c1 != c2}")


