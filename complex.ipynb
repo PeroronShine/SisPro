import math
class Complex:
  """вид комплексного числа ai+b => (a, b)"""
  def __init__(self, real=Rational(0), imag=Rational(0)):
    if not isinstance(imag, Rational):
      raise ValueError("imag must be an rational")
    if not isinstance(real, Rational):
      raise ValueError("real must be an rational")
    self.__imag = imag
    self.__real = real

  @property
  def imag(self):
      return self.__imag

  @imag.setter
  def imag(self, value: Rational | None):
    if not isinstance(value, Rational):
      raise ValueError("imag must be an rational")
    self.__imag = value

  @property
  def real(self):
    return self.__real

  @real.setter
  def real(self, value: Rational | None):
    if not isinstance(value, Rational):
      raise ValueError("real must be an rational")
    self.__real = value

  def __add__(self, other):
    return ComplexNumber(self.real + other.real, self.imag + other.imag)

  def __iadd__(self, other):
    if not isinstance(other, Complex):
      raise TypeError("Operand must be a Complex number")
    self.real = self.real + other.real
    self.imag = self.imag + other.imag
    return self

  def __sub__(self, other):
    return ComplexNumber(self.real - other.real, self.imag - other.imag)

  def __isub__(self, other):
    if not isinstance(other, Complex):
      raise TypeError("Operand must be a Complex number")
    self.real = self.real + other.real*(-1)
    self.imag = self.imag + other.imag*(-1)
    return self

  def __mul__(self, other):
    if not isinstance(other, Complex):
      raise TypeError("Operand must be a Complex number")
    return ComplexNumber(self.real * other.real - self.imag * other.imag, self.real * other.imag + self.imag * other.real)

  def __imul__(self, other):
    self.real = self.real * other.real - self.imag * other.imag
    self.imag = self.real * other.imag + self.imag * other.real
    return self

  def __truediv__(self, other):
    if not isinstance(other, Complex):
      raise TypeError("Operand must be a Complex number")
    denominator = other.real * other.real + other.imag * other.imag
    if denominator.numerator == 0:
      raise ZeroDivisionError("Cannot divide by zero")
    return Complex((self.real * other.real + self.imag * other.imag) / denominator, (self.imag * other.real - self.real * other.imag) / denominator)
      
  def __itruediv__(self, other):
    if not isinstance(other, Complex):
      raise TypeError("Operand must be a Complex number")
    if denominator.numerator == 0:
      raise ZeroDivisionError("Cannot divide by zero")
    self.real = (self.real * other.real + self.imag * other.imag) / (other.real * other.real + other.imag * other.imag)
    self.imag = (self.imag * other.real - self.real * other.imag) / (other.real * other.real + other.imag * other.imag)
    return self

  def __eq__(self, other):
    if not isinstance(other, Complex):
      raise TypeError("Operand must be a Complex number")
    return self.real == other.real and self.imag == other.imag

  def __ne__(self, other):
    return not self == other

  def __neg__(self):
    return Complex(-self.real, -self.imag)

  def __str__(self):
    sign = '+' if self.imag.numerator >= 0 else '-'
    return f"{self.real} {sign} {abs(self.imag)}i"

  def power(self, n):
    if n < 0:
      raise ValueError("Exponent must be a natural number")
    result = Complex(Rational(1))
    for _ in range(n):
      result *= self
    return result

  def arg(self):
    return math.atan2(self.imag.to_float(), self.real.to_float())

  def abs(self):
    return math.sqrt(self.real.to_float()**2 + self.imag.to_float()**2)
